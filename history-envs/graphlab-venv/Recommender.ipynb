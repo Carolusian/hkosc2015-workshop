{
 "cells": [
  {
   "cell_type": "markdown",
   "metadata": {},
   "source": [
    "# Try Recommender System in GraphLab Create\n",
    "\n",
    "## Small Example"
   ]
  },
  {
   "cell_type": "code",
   "execution_count": 1,
   "metadata": {
    "collapsed": false
   },
   "outputs": [],
   "source": [
    "import pandas as pd\n",
    "import graphlab as gl"
   ]
  },
  {
   "cell_type": "code",
   "execution_count": 2,
   "metadata": {
    "collapsed": false
   },
   "outputs": [
    {
     "data": {
      "text/html": [
       "<div>\n",
       "<table border=\"1\" class=\"dataframe\">\n",
       "  <thead>\n",
       "    <tr>\n",
       "      <th></th>\n",
       "      <th colspan=\"5\" halign=\"left\">score</th>\n",
       "    </tr>\n",
       "    <tr>\n",
       "      <th>item_id</th>\n",
       "      <th>a</th>\n",
       "      <th>b</th>\n",
       "      <th>c</th>\n",
       "      <th>d</th>\n",
       "      <th>e</th>\n",
       "    </tr>\n",
       "    <tr>\n",
       "      <th>user_id</th>\n",
       "      <th></th>\n",
       "      <th></th>\n",
       "      <th></th>\n",
       "      <th></th>\n",
       "      <th></th>\n",
       "    </tr>\n",
       "  </thead>\n",
       "  <tbody>\n",
       "    <tr>\n",
       "      <th>1</th>\n",
       "      <td>1</td>\n",
       "      <td>5</td>\n",
       "      <td>NaN</td>\n",
       "      <td>1</td>\n",
       "      <td>NaN</td>\n",
       "    </tr>\n",
       "    <tr>\n",
       "      <th>2</th>\n",
       "      <td>2</td>\n",
       "      <td>5</td>\n",
       "      <td>NaN</td>\n",
       "      <td>NaN</td>\n",
       "      <td>2</td>\n",
       "    </tr>\n",
       "    <tr>\n",
       "      <th>3</th>\n",
       "      <td>NaN</td>\n",
       "      <td>1</td>\n",
       "      <td>2</td>\n",
       "      <td>5</td>\n",
       "      <td>5</td>\n",
       "    </tr>\n",
       "    <tr>\n",
       "      <th>4</th>\n",
       "      <td>4</td>\n",
       "      <td>NaN</td>\n",
       "      <td>2</td>\n",
       "      <td>5</td>\n",
       "      <td>NaN</td>\n",
       "    </tr>\n",
       "  </tbody>\n",
       "</table>\n",
       "</div>"
      ],
      "text/plain": [
       "        score                \n",
       "item_id     a   b   c   d   e\n",
       "user_id                      \n",
       "1           1   5 NaN   1 NaN\n",
       "2           2   5 NaN NaN   2\n",
       "3         NaN   1   2   5   5\n",
       "4           4 NaN   2   5 NaN"
      ]
     },
     "execution_count": 2,
     "metadata": {},
     "output_type": "execute_result"
    }
   ],
   "source": [
    "df = pd.DataFrame(\n",
    "    data=[\n",
    "        (1, 'a', 1),\n",
    "        (1, 'd', 1),\n",
    "        (1, 'b', 5),\n",
    "        (2, 'a', 2),\n",
    "        (2, 'b', 5),\n",
    "        (2, 'e', 2),\n",
    "        (3, 'b', 1),\n",
    "        (3, 'c', 2),\n",
    "        (3, 'e', 5),\n",
    "        (3, 'd', 5),\n",
    "        (4, 'a', 4),\n",
    "        (4, 'd', 5),\n",
    "        (4, 'c', 2),\n",
    "    ],\n",
    "    columns=['user_id', 'item_id', 'score'])\n",
    "pdf = df.pivot('user_id', 'item_id')\n",
    "pdf"
   ]
  },
  {
   "cell_type": "code",
   "execution_count": 3,
   "metadata": {
    "collapsed": false,
    "scrolled": true
   },
   "outputs": [
    {
     "name": "stderr",
     "output_type": "stream",
     "text": [
      "[INFO] This trial license of GraphLab Create is assigned to e-hkosc15@hupili.net and will expire on July 26, 2015. Please contact trial@dato.com for licensing options or to request a free non-commercial license for personal or academic use.\n",
      "\n",
      "[INFO] Start server at: ipc:///tmp/graphlab_server-56186 - Server binary: /Users/hupili/Desktop/hkosc2015-workshop/graphlab-venv/dato-env/lib/python2.7/site-packages/graphlab/unity_server - Server log: /tmp/graphlab_server_1435376583.log\n",
      "[INFO] GraphLab Server Version: 1.4.1\n"
     ]
    },
    {
     "name": "stdout",
     "output_type": "stream",
     "text": [
      "PROGRESS: Recsys training: model = ranking_factorization_recommender\n",
      "PROGRESS: Preparing data set.\n",
      "PROGRESS:     Data has 13 observations with 4 users and 5 items.\n",
      "PROGRESS:     Data prepared in: 0.003097s\n",
      "PROGRESS: Training ranking_factorization_recommender for recommendations.\n",
      "PROGRESS: +--------------------------------+--------------------------------------------------+----------+\n",
      "PROGRESS: | Parameter                      | Description                                      | Value    |\n",
      "PROGRESS: +--------------------------------+--------------------------------------------------+----------+\n",
      "PROGRESS: | num_factors                    | Factor Dimension                                 | 32       |\n",
      "PROGRESS: | regularization                 | L2 Regularization on Factors                     | 1e-09    |\n",
      "PROGRESS: | solver                         | Solver used for training                         | sgd      |\n",
      "PROGRESS: | linear_regularization          | L2 Regularization on Linear Coefficients         | 1e-09    |\n",
      "PROGRESS: | ranking_regularization         | Rank-based Regularization Weight                 | 0.25     |\n",
      "PROGRESS: | max_iterations                 | Maximum Number of Iterations                     | 25       |\n",
      "PROGRESS: +--------------------------------+--------------------------------------------------+----------+\n",
      "PROGRESS:   Optimizing model using SGD; tuning step size.\n",
      "PROGRESS:   Using 13 / 13 points for tuning the step size.\n",
      "PROGRESS: +---------+-------------------+------------------------------------------+\n",
      "PROGRESS: | Attempt | Initial Step Size | Estimated Objective Value                |\n",
      "PROGRESS: +---------+-------------------+------------------------------------------+\n",
      "PROGRESS: | 0       | 25                | Not Viable                               |\n",
      "PROGRESS: | 1       | 6.25              | Not Viable                               |\n",
      "PROGRESS: | 2       | 1.5625            | Not Viable                               |\n",
      "PROGRESS: | 3       | 0.390625          | 4.31821                                  |\n",
      "PROGRESS: | 4       | 0.195312          | 4.99853                                  |\n",
      "PROGRESS: | 5       | 0.0976562         | 4.84227                                  |\n",
      "PROGRESS: | 6       | 0.0488281         | 4.93668                                  |\n",
      "PROGRESS: +---------+-------------------+------------------------------------------+\n",
      "PROGRESS: | Final   | 0.390625          | 4.31821                                  |\n",
      "PROGRESS: +---------+-------------------+------------------------------------------+\n",
      "PROGRESS: Starting Optimization.\n",
      "PROGRESS: +---------+--------------+-------------------+-----------------------+-------------+\n",
      "PROGRESS: | Iter.   | Elapsed Time | Approx. Objective | Approx. Training RMSE | Step Size   |\n",
      "PROGRESS: +---------+--------------+-------------------+-----------------------+-------------+\n",
      "PROGRESS: | Initial | 189us        | 5.79523           | 1.68541               |             |\n",
      "PROGRESS: +---------+--------------+-------------------+-----------------------+-------------+\n",
      "PROGRESS: | 1       | 892us        | 8.13338           | 2.66642               | 0.390625    |\n",
      "PROGRESS: | 2       | 1.545ms      | 5.6463            | 2.10649               | 0.232267    |\n",
      "PROGRESS: | 3       | 2.117ms      | 5.14654           | 1.92012               | 0.171364    |\n",
      "PROGRESS: | 4       | 2.681ms      | 4.68414           | 1.86635               | 0.116134    |\n",
      "PROGRESS: | 5       | 3.27ms       | 3.05827           | 1.33066               | 0.098237    |\n",
      "PROGRESS: | 6       | 3.839ms      | 1.47415           | 0.584429              | 0.0856819   |\n",
      "PROGRESS: | 11      | 6.108ms      | 1.13831           | 0.5172                | 0.0543824   |\n",
      "PROGRESS: +---------+--------------+-------------------+-----------------------+-------------+\n",
      "PROGRESS: Optimization Complete: Maximum number of passes through the data reached.\n",
      "PROGRESS: Computing final objective value and training RMSE.\n",
      "PROGRESS:        Final objective value: 2.15769\n",
      "PROGRESS:        Final training RMSE: 0.390786\n",
      "+---------+---------+------------------+------+\n",
      "| user_id | item_id |      score       | rank |\n",
      "+---------+---------+------------------+------+\n",
      "|    1    |    e    |  0.870254223163  |  1   |\n",
      "|    1    |    c    | -0.815725381558  |  2   |\n",
      "|    2    |    d    |  1.50584280949   |  1   |\n",
      "|    2    |    c    | -0.0734971715854 |  2   |\n",
      "|    3    |    a    |  3.28303347986   |  1   |\n",
      "|    4    |    e    |  3.83382167194   |  1   |\n",
      "|    4    |    b    |  0.607048529129  |  2   |\n",
      "+---------+---------+------------------+------+\n",
      "[7 rows x 4 columns]\n",
      "\n"
     ]
    }
   ],
   "source": [
    "sf = gl.SFrame(df)\n",
    "model = gl.recommender.create(sf,\n",
    "          user_id='user_id',\n",
    "          item_id='item_id',\n",
    "          target='score')\n",
    "recommendations = model.recommend()\n",
    "print recommendations"
   ]
  },
  {
   "cell_type": "code",
   "execution_count": 4,
   "metadata": {
    "collapsed": false
   },
   "outputs": [
    {
     "data": {
      "text/html": [
       "<div>\n",
       "<table border=\"1\" class=\"dataframe\">\n",
       "  <thead>\n",
       "    <tr>\n",
       "      <th></th>\n",
       "      <th colspan=\"5\" halign=\"left\">score</th>\n",
       "    </tr>\n",
       "    <tr>\n",
       "      <th>item_id</th>\n",
       "      <th>a</th>\n",
       "      <th>b</th>\n",
       "      <th>c</th>\n",
       "      <th>d</th>\n",
       "      <th>e</th>\n",
       "    </tr>\n",
       "    <tr>\n",
       "      <th>user_id</th>\n",
       "      <th></th>\n",
       "      <th></th>\n",
       "      <th></th>\n",
       "      <th></th>\n",
       "      <th></th>\n",
       "    </tr>\n",
       "  </thead>\n",
       "  <tbody>\n",
       "    <tr>\n",
       "      <th>1</th>\n",
       "      <td>1.000000</td>\n",
       "      <td>5.000000</td>\n",
       "      <td>-0.815725</td>\n",
       "      <td>1.000000</td>\n",
       "      <td>0.870254</td>\n",
       "    </tr>\n",
       "    <tr>\n",
       "      <th>2</th>\n",
       "      <td>2.000000</td>\n",
       "      <td>5.000000</td>\n",
       "      <td>-0.073497</td>\n",
       "      <td>1.505843</td>\n",
       "      <td>2.000000</td>\n",
       "    </tr>\n",
       "    <tr>\n",
       "      <th>3</th>\n",
       "      <td>3.283033</td>\n",
       "      <td>1.000000</td>\n",
       "      <td>2.000000</td>\n",
       "      <td>5.000000</td>\n",
       "      <td>5.000000</td>\n",
       "    </tr>\n",
       "    <tr>\n",
       "      <th>4</th>\n",
       "      <td>4.000000</td>\n",
       "      <td>0.607049</td>\n",
       "      <td>2.000000</td>\n",
       "      <td>5.000000</td>\n",
       "      <td>3.833822</td>\n",
       "    </tr>\n",
       "  </tbody>\n",
       "</table>\n",
       "</div>"
      ],
      "text/plain": [
       "            score                                        \n",
       "item_id         a         b         c         d         e\n",
       "user_id                                                  \n",
       "1        1.000000  5.000000 -0.815725  1.000000  0.870254\n",
       "2        2.000000  5.000000 -0.073497  1.505843  2.000000\n",
       "3        3.283033  1.000000  2.000000  5.000000  5.000000\n",
       "4        4.000000  0.607049  2.000000  5.000000  3.833822"
      ]
     },
     "execution_count": 4,
     "metadata": {},
     "output_type": "execute_result"
    }
   ],
   "source": [
    "pd.concat([df, recommendations[['user_id', 'item_id', 'score']].to_dataframe()]).pivot('user_id', 'item_id')"
   ]
  },
  {
   "cell_type": "markdown",
   "metadata": {},
   "source": [
    "## Plug and Play with other model/algorithms\n",
    "\n",
    "```\n",
    "sf = gl.SFrame(df)\n",
    "model = gl.recommender.create(sf,\n",
    "          user_id='user_id',\n",
    "          item_id='item_id',\n",
    "          target='score')\n",
    "recommendations = model.recommend()\n",
    "print recommendations\n",
    "```"
   ]
  },
  {
   "cell_type": "code",
   "execution_count": 5,
   "metadata": {
    "collapsed": true
   },
   "outputs": [],
   "source": [
    "def try_model(model_module):\n",
    "    sf = gl.SFrame(df)\n",
    "    model = model_module.create(sf,\n",
    "              user_id='user_id',\n",
    "              item_id='item_id',\n",
    "              target='score')\n",
    "    recommendations = model.recommend()\n",
    "    print recommendations"
   ]
  },
  {
   "cell_type": "code",
   "execution_count": 6,
   "metadata": {
    "collapsed": false
   },
   "outputs": [
    {
     "name": "stdout",
     "output_type": "stream",
     "text": [
      "PROGRESS: Recsys training: model = item_similarity\n",
      "PROGRESS: Preparing data set.\n",
      "PROGRESS:     Data has 13 observations with 4 users and 5 items.\n",
      "PROGRESS:     Data prepared in: 0.00452s\n",
      "PROGRESS: Computing item similarity statistics:\n",
      "PROGRESS: Computing most similar items for 5 items:\n",
      "PROGRESS: Finished training in 0.000794s\n",
      "PROGRESS: Finished prediction in 0.000802s\n",
      "+---------+---------+---------------+------+\n",
      "| user_id | item_id |     score     | rank |\n",
      "+---------+---------+---------------+------+\n",
      "|    1    |    e    | 3.28571428571 |  1   |\n",
      "|    1    |    c    | 1.85714285714 |  2   |\n",
      "|    2    |    d    |      3.2      |  1   |\n",
      "|    2    |    c    |      2.9      |  2   |\n",
      "|    3    |    a    | 3.16666666667 |  1   |\n",
      "|    4    |    b    |      4.0      |  1   |\n",
      "|    4    |    e    |      3.5      |  2   |\n",
      "+---------+---------+---------------+------+\n",
      "[7 rows x 4 columns]\n",
      "\n"
     ]
    }
   ],
   "source": [
    "try_model(gl.recommender.item_similarity_recommender)"
   ]
  },
  {
   "cell_type": "code",
   "execution_count": 7,
   "metadata": {
    "collapsed": false
   },
   "outputs": [
    {
     "name": "stdout",
     "output_type": "stream",
     "text": [
      "PROGRESS: Recsys training: model = popularity\n",
      "PROGRESS: Preparing data set.\n",
      "PROGRESS:     Data has 13 observations with 4 users and 5 items.\n",
      "PROGRESS:     Data prepared in: 0.004618s\n",
      "PROGRESS: 13 observations to process; with 5 unique items.\n",
      "PROGRESS: 13 observations processed.\n",
      "PROGRESS: Number observations / second: 151163\n",
      "PROGRESS: Computing nearest neighbors model for item similarity queries.\n",
      "PROGRESS: +------------+--------------+\n",
      "PROGRESS: | Tree level | Elapsed Time |\n",
      "PROGRESS: +------------+--------------+\n",
      "PROGRESS: | 0          | 286us        |\n",
      "PROGRESS: +------------+--------------+\n",
      "+---------+---------+---------------+------+\n",
      "| user_id | item_id |     score     | rank |\n",
      "+---------+---------+---------------+------+\n",
      "|    1    |    e    |      3.5      |  1   |\n",
      "|    1    |    c    |      2.0      |  2   |\n",
      "|    2    |    d    | 3.66666666667 |  1   |\n",
      "|    2    |    c    |      2.0      |  2   |\n",
      "|    3    |    a    | 2.33333333333 |  1   |\n",
      "|    4    |    b    | 3.66666666667 |  1   |\n",
      "|    4    |    e    |      3.5      |  2   |\n",
      "+---------+---------+---------------+------+\n",
      "[7 rows x 4 columns]\n",
      "\n"
     ]
    }
   ],
   "source": [
    "try_model(gl.recommender.popularity_recommender)"
   ]
  },
  {
   "cell_type": "code",
   "execution_count": 8,
   "metadata": {
    "collapsed": false
   },
   "outputs": [
    {
     "name": "stdout",
     "output_type": "stream",
     "text": [
      "PROGRESS: Recsys training: model = ranking_factorization_recommender\n",
      "PROGRESS: Preparing data set.\n",
      "PROGRESS:     Data has 13 observations with 4 users and 5 items.\n",
      "PROGRESS:     Data prepared in: 0.004671s\n",
      "PROGRESS: Training ranking_factorization_recommender for recommendations.\n",
      "PROGRESS: +--------------------------------+--------------------------------------------------+----------+\n",
      "PROGRESS: | Parameter                      | Description                                      | Value    |\n",
      "PROGRESS: +--------------------------------+--------------------------------------------------+----------+\n",
      "PROGRESS: | num_factors                    | Factor Dimension                                 | 32       |\n",
      "PROGRESS: | regularization                 | L2 Regularization on Factors                     | 1e-09    |\n",
      "PROGRESS: | solver                         | Solver used for training                         | sgd      |\n",
      "PROGRESS: | linear_regularization          | L2 Regularization on Linear Coefficients         | 1e-09    |\n",
      "PROGRESS: | ranking_regularization         | Rank-based Regularization Weight                 | 0.25     |\n",
      "PROGRESS: | max_iterations                 | Maximum Number of Iterations                     | 25       |\n",
      "PROGRESS: +--------------------------------+--------------------------------------------------+----------+\n",
      "PROGRESS:   Optimizing model using SGD; tuning step size.\n",
      "PROGRESS:   Using 13 / 13 points for tuning the step size.\n",
      "PROGRESS: +---------+-------------------+------------------------------------------+\n",
      "PROGRESS: | Attempt | Initial Step Size | Estimated Objective Value                |\n",
      "PROGRESS: +---------+-------------------+------------------------------------------+\n",
      "PROGRESS: | 0       | 25                | Not Viable                               |\n",
      "PROGRESS: | 1       | 6.25              | Not Viable                               |\n",
      "PROGRESS: | 2       | 1.5625            | Not Viable                               |\n",
      "PROGRESS: | 3       | 0.390625          | 2.40205                                  |\n",
      "PROGRESS: | 4       | 0.195312          | 4.92269                                  |\n",
      "PROGRESS: +---------+-------------------+------------------------------------------+\n",
      "PROGRESS: | Final   | 0.390625          | 2.40205                                  |\n",
      "PROGRESS: +---------+-------------------+------------------------------------------+\n",
      "PROGRESS: Starting Optimization.\n",
      "PROGRESS: +---------+--------------+-------------------+-----------------------+-------------+\n",
      "PROGRESS: | Iter.   | Elapsed Time | Approx. Objective | Approx. Training RMSE | Step Size   |\n",
      "PROGRESS: +---------+--------------+-------------------+-----------------------+-------------+\n",
      "PROGRESS: | Initial | 310us        | 5.79523           | 1.68541               |             |\n",
      "PROGRESS: +---------+--------------+-------------------+-----------------------+-------------+\n",
      "PROGRESS: | 1       | 1.402ms      | 7.9562            | 2.68473               | 0.390625    |\n",
      "PROGRESS: | 2       | 2.547ms      | 5.90224           | 2.20647               | 0.232267    |\n",
      "PROGRESS: | 3       | 3.437ms      | 4.69448           | 1.78463               | 0.171364    |\n",
      "PROGRESS: | 4       | 4.156ms      | 4.6881            | 1.84956               | 0.116134    |\n",
      "PROGRESS: | 5       | 4.986ms      | 3.79132           | 1.6068                | 0.098237    |\n",
      "PROGRESS: | 6       | 5.699ms      | 2.2548            | 1.00461               | 0.0856819   |\n",
      "PROGRESS: | 11      | 8.97ms       | 1.12776           | 0.524648              | 0.0543824   |\n",
      "PROGRESS: +---------+--------------+-------------------+-----------------------+-------------+\n",
      "PROGRESS: Optimization Complete: Maximum number of passes through the data reached.\n",
      "PROGRESS: Computing final objective value and training RMSE.\n",
      "PROGRESS:        Final objective value: 2.05052\n",
      "PROGRESS:        Final training RMSE: 0.373021\n",
      "+---------+---------+------------------+------+\n",
      "| user_id | item_id |      score       | rank |\n",
      "+---------+---------+------------------+------+\n",
      "|    1    |    e    |  0.888983671482  |  1   |\n",
      "|    1    |    c    | -0.814432795231  |  2   |\n",
      "|    2    |    d    |  1.48537266713   |  1   |\n",
      "|    2    |    c    | -0.0950669004367 |  2   |\n",
      "|    3    |    a    |  3.17046347719   |  1   |\n",
      "|    4    |    e    |  3.74927767825   |  1   |\n",
      "|    4    |    b    |  0.530051317926  |  2   |\n",
      "+---------+---------+------------------+------+\n",
      "[7 rows x 4 columns]\n",
      "\n"
     ]
    }
   ],
   "source": [
    "try_model(gl.recommender.ranking_factorization_recommender)"
   ]
  },
  {
   "cell_type": "markdown",
   "metadata": {},
   "source": [
    "## A Real Dataset\n",
    "\n",
    "2.7MB data: http://s3.amazonaws.com/GraphLab-Datasets/movie_ratings/training_data.csv "
   ]
  },
  {
   "cell_type": "code",
   "execution_count": 9,
   "metadata": {
    "collapsed": false
   },
   "outputs": [
    {
     "name": "stdout",
     "output_type": "stream",
     "text": [
      "PROGRESS: Downloading http://s3.amazonaws.com/GraphLab-Datasets/movie_ratings/training_data.csv to /var/tmp/graphlab-hupili/56186/000000.csv\n",
      "PROGRESS: Finished parsing file http://s3.amazonaws.com/GraphLab-Datasets/movie_ratings/training_data.csv\n",
      "PROGRESS: Parsing completed. Parsed 82068 lines in 0.068877 secs.\n"
     ]
    },
    {
     "data": {
      "text/html": [
       "<div style=\"max-height:1000px;max-width:1500px;overflow:auto;\"><table frame=\"box\" rules=\"cols\">\n",
       "    <tr>\n",
       "        <th style=\"padding-left: 1em; padding-right: 1em; text-align: center\">user</th>\n",
       "        <th style=\"padding-left: 1em; padding-right: 1em; text-align: center\">movie</th>\n",
       "        <th style=\"padding-left: 1em; padding-right: 1em; text-align: center\">rating</th>\n",
       "    </tr>\n",
       "    <tr>\n",
       "        <td style=\"padding-left: 1em; padding-right: 1em; text-align: center; vertical-align: top\">Jacob Smith</td>\n",
       "        <td style=\"padding-left: 1em; padding-right: 1em; text-align: center; vertical-align: top\">Flirting with Disaster</td>\n",
       "        <td style=\"padding-left: 1em; padding-right: 1em; text-align: center; vertical-align: top\">4</td>\n",
       "    </tr>\n",
       "    <tr>\n",
       "        <td style=\"padding-left: 1em; padding-right: 1em; text-align: center; vertical-align: top\">Jacob Smith</td>\n",
       "        <td style=\"padding-left: 1em; padding-right: 1em; text-align: center; vertical-align: top\">Indecent Proposal</td>\n",
       "        <td style=\"padding-left: 1em; padding-right: 1em; text-align: center; vertical-align: top\">3</td>\n",
       "    </tr>\n",
       "    <tr>\n",
       "        <td style=\"padding-left: 1em; padding-right: 1em; text-align: center; vertical-align: top\">Jacob Smith</td>\n",
       "        <td style=\"padding-left: 1em; padding-right: 1em; text-align: center; vertical-align: top\">Runaway Bride</td>\n",
       "        <td style=\"padding-left: 1em; padding-right: 1em; text-align: center; vertical-align: top\">2</td>\n",
       "    </tr>\n",
       "    <tr>\n",
       "        <td style=\"padding-left: 1em; padding-right: 1em; text-align: center; vertical-align: top\">Jacob Smith</td>\n",
       "        <td style=\"padding-left: 1em; padding-right: 1em; text-align: center; vertical-align: top\">Swiss Family Robinson</td>\n",
       "        <td style=\"padding-left: 1em; padding-right: 1em; text-align: center; vertical-align: top\">1</td>\n",
       "    </tr>\n",
       "    <tr>\n",
       "        <td style=\"padding-left: 1em; padding-right: 1em; text-align: center; vertical-align: top\">Jacob Smith</td>\n",
       "        <td style=\"padding-left: 1em; padding-right: 1em; text-align: center; vertical-align: top\">The Mexican</td>\n",
       "        <td style=\"padding-left: 1em; padding-right: 1em; text-align: center; vertical-align: top\">2</td>\n",
       "    </tr>\n",
       "    <tr>\n",
       "        <td style=\"padding-left: 1em; padding-right: 1em; text-align: center; vertical-align: top\">Jacob Smith</td>\n",
       "        <td style=\"padding-left: 1em; padding-right: 1em; text-align: center; vertical-align: top\">Maid in Manhattan</td>\n",
       "        <td style=\"padding-left: 1em; padding-right: 1em; text-align: center; vertical-align: top\">4</td>\n",
       "    </tr>\n",
       "    <tr>\n",
       "        <td style=\"padding-left: 1em; padding-right: 1em; text-align: center; vertical-align: top\">Jacob Smith</td>\n",
       "        <td style=\"padding-left: 1em; padding-right: 1em; text-align: center; vertical-align: top\">A Charlie Brown<br>Thanksgiving / The ...</td>\n",
       "        <td style=\"padding-left: 1em; padding-right: 1em; text-align: center; vertical-align: top\">3</td>\n",
       "    </tr>\n",
       "    <tr>\n",
       "        <td style=\"padding-left: 1em; padding-right: 1em; text-align: center; vertical-align: top\">Jacob Smith</td>\n",
       "        <td style=\"padding-left: 1em; padding-right: 1em; text-align: center; vertical-align: top\">Brazil</td>\n",
       "        <td style=\"padding-left: 1em; padding-right: 1em; text-align: center; vertical-align: top\">1</td>\n",
       "    </tr>\n",
       "    <tr>\n",
       "        <td style=\"padding-left: 1em; padding-right: 1em; text-align: center; vertical-align: top\">Jacob Smith</td>\n",
       "        <td style=\"padding-left: 1em; padding-right: 1em; text-align: center; vertical-align: top\">Forrest Gump</td>\n",
       "        <td style=\"padding-left: 1em; padding-right: 1em; text-align: center; vertical-align: top\">3</td>\n",
       "    </tr>\n",
       "    <tr>\n",
       "        <td style=\"padding-left: 1em; padding-right: 1em; text-align: center; vertical-align: top\">Jacob Smith</td>\n",
       "        <td style=\"padding-left: 1em; padding-right: 1em; text-align: center; vertical-align: top\">It Happened One Night</td>\n",
       "        <td style=\"padding-left: 1em; padding-right: 1em; text-align: center; vertical-align: top\">4</td>\n",
       "    </tr>\n",
       "</table>\n",
       "[10 rows x 3 columns]<br/>\n",
       "</div>"
      ],
      "text/plain": [
       "Columns:\n",
       "\tuser\tstr\n",
       "\tmovie\tstr\n",
       "\trating\tint\n",
       "\n",
       "Rows: 10\n",
       "\n",
       "Data:\n",
       "+-------------+-------------------------------+--------+\n",
       "|     user    |             movie             | rating |\n",
       "+-------------+-------------------------------+--------+\n",
       "| Jacob Smith |     Flirting with Disaster    |   4    |\n",
       "| Jacob Smith |       Indecent Proposal       |   3    |\n",
       "| Jacob Smith |         Runaway Bride         |   2    |\n",
       "| Jacob Smith |     Swiss Family Robinson     |   1    |\n",
       "| Jacob Smith |          The Mexican          |   2    |\n",
       "| Jacob Smith |       Maid in Manhattan       |   4    |\n",
       "| Jacob Smith | A Charlie Brown Thanksgivi... |   3    |\n",
       "| Jacob Smith |             Brazil            |   1    |\n",
       "| Jacob Smith |          Forrest Gump         |   3    |\n",
       "| Jacob Smith |     It Happened One Night     |   4    |\n",
       "+-------------+-------------------------------+--------+\n",
       "[10 rows x 3 columns]"
      ]
     },
     "execution_count": 9,
     "metadata": {},
     "output_type": "execute_result"
    }
   ],
   "source": [
    "data = gl.SFrame.read_csv(\"http://s3.amazonaws.com/GraphLab-Datasets/movie_ratings/training_data.csv\", column_type_hints={\"rating\":int})\n",
    "data.head()"
   ]
  },
  {
   "cell_type": "code",
   "execution_count": 10,
   "metadata": {
    "collapsed": false
   },
   "outputs": [],
   "source": [
    "data_df = data.to_dataframe()"
   ]
  },
  {
   "cell_type": "code",
   "execution_count": 22,
   "metadata": {
    "collapsed": false
   },
   "outputs": [
    {
     "name": "stdout",
     "output_type": "stream",
     "text": [
      "number of users 334\n",
      "number of movies 7714\n"
     ]
    }
   ],
   "source": [
    "all_users = data_df['user'].unique()\n",
    "all_movies = data_df['movie'].unique()\n",
    "print 'number of users', len(all_users)\n",
    "print 'number of movies', len(all_movies)"
   ]
  },
  {
   "cell_type": "code",
   "execution_count": 12,
   "metadata": {
    "collapsed": false
   },
   "outputs": [
    {
     "data": {
      "text/plain": [
       "Zion Smith         2024\n",
       "Ivan Smith         1147\n",
       "Beau Smith         1057\n",
       "Damian Smith        908\n",
       "Gabriel Smith       843\n",
       "Paul Smith          823\n",
       "Brady Smith         769\n",
       "Cristian Smith      762\n",
       "Adam Smith          746\n",
       "Edwin Smith         734\n",
       "Bryson Smith        732\n",
       "Richard Smith       732\n",
       "Shawn Smith         730\n",
       "Asher Smith         716\n",
       "Kameron Smith       701\n",
       "Camden Smith        672\n",
       "Aden Smith          670\n",
       "August Smith        668\n",
       "Jayce Smith         654\n",
       "Bryce Smith         638\n",
       "Aaron Smith         630\n",
       "Daniel Smith        627\n",
       "Ryder Smith         625\n",
       "Mason Smith         623\n",
       "Alejandro Smith     606\n",
       "William Smith       599\n",
       "Javier Smith        597\n",
       "Charles Smith       591\n",
       "Drew Smith          588\n",
       "Jaden Smith         586\n",
       "                   ... \n",
       "Sergio Smith         48\n",
       "Kaleb Smith          48\n",
       "Ashton Smith         48\n",
       "Kaden Smith          47\n",
       "Emmanuel Smith       47\n",
       "Roberto Smith        44\n",
       "Johnathan Smith      42\n",
       "Graham Smith         41\n",
       "Simon Smith          40\n",
       "Santiago Smith       40\n",
       "Zayden Smith         40\n",
       "John Smith           36\n",
       "Paxton Smith         36\n",
       "Kayden Smith         34\n",
       "Rafael Smith         32\n",
       "Hudson Smith         30\n",
       "Easton Smith         29\n",
       "Andres Smith         28\n",
       "Cody Smith           27\n",
       "Travis Smith         26\n",
       "Malachi Smith        25\n",
       "Zachary Smith        24\n",
       "Anthony Smith        24\n",
       "Luis Smith           23\n",
       "Antonio Smith        23\n",
       "Brendan Smith        18\n",
       "Ruben Smith          15\n",
       "Amari Smith          11\n",
       "Milo Smith            7\n",
       "Gregory Smith         7\n",
       "dtype: int64"
      ]
     },
     "execution_count": 12,
     "metadata": {},
     "output_type": "execute_result"
    }
   ],
   "source": [
    "data_df['user'].value_counts()"
   ]
  },
  {
   "cell_type": "code",
   "execution_count": 13,
   "metadata": {
    "collapsed": false
   },
   "outputs": [
    {
     "data": {
      "text/plain": [
       "Something's Gotta Give                                             252\n",
       "Pirates of the Caribbean: The Curse of the Black Pearl             170\n",
       "Pretty Woman                                                       168\n",
       "How to Lose a Guy in 10 Days                                       166\n",
       "The Godfather                                                      162\n",
       "Miss Congeniality                                                  161\n",
       "Ocean's Eleven                                                     159\n",
       "Lost in Translation                                                157\n",
       "The Bourne Identity                                                156\n",
       "Two Weeks Notice                                                   156\n",
       "Bruce Almighty                                                     155\n",
       "The Italian Job                                                    153\n",
       "Sweet Home Alabama                                                 153\n",
       "Catch Me If You Can                                                150\n",
       "Mystic River                                                       150\n",
       "The Last Samurai                                                   144\n",
       "50 First Dates                                                     142\n",
       "The Royal Tenenbaums                                               141\n",
       "Forrest Gump                                                       141\n",
       "My Big Fat Greek Wedding                                           140\n",
       "Under the Tuscan Sun                                               140\n",
       "The Patriot                                                        139\n",
       "Big Fish                                                           139\n",
       "Independence Day                                                   138\n",
       "American Beauty                                                    137\n",
       "The Terminal                                                       137\n",
       "What Women Want                                                    136\n",
       "Gone in 60 Seconds                                                 135\n",
       "Chicago                                                            134\n",
       "Finding Nemo (Widescreen)                                          131\n",
       "                                                                  ... \n",
       "Mr. Saturday Night                                                   1\n",
       "Life Stinks                                                          1\n",
       "The Mad About You Collection                                         1\n",
       "Run the Wild Fields                                                  1\n",
       "The Sword of Doom                                                    1\n",
       "Knight Moves                                                         1\n",
       "Keeping Up Appearances                                               1\n",
       "The Corner                                                           1\n",
       "The Rich Man's Wife                                                  1\n",
       "Queens Logic                                                         1\n",
       "Andre                                                                1\n",
       "Pennies from Heaven                                                  1\n",
       "The Inspector Lynley Mysteries: In Pursuit of the Proper Sinner      1\n",
       "Play to Win: Secrets of Playing Slots                                1\n",
       "Baby Einstein: Baby Noah                                             1\n",
       "The Office: Season 1                                                 1\n",
       "The Isle                                                             1\n",
       "The Swimmer                                                          1\n",
       "Scooby-Doo Where Are You?: Seasons 1 & 2                             1\n",
       "Kon-Tiki                                                             1\n",
       "The Yards                                                            1\n",
       "The Dust Factory                                                     1\n",
       "Con Man                                                              1\n",
       "October                                                              1\n",
       "Alabama: For the Record: 41 Number One Hits                          1\n",
       "Girlhood                                                             1\n",
       "Elephant Parts                                                       1\n",
       "The Night of the Shooting Stars                                      1\n",
       "Care Bears: Bears Share a Scare                                      1\n",
       "Boxing Helena                                                        1\n",
       "dtype: int64"
      ]
     },
     "execution_count": 13,
     "metadata": {},
     "output_type": "execute_result"
    }
   ],
   "source": [
    "data_df['movie'].value_counts()"
   ]
  },
  {
   "cell_type": "code",
   "execution_count": 14,
   "metadata": {
    "collapsed": false
   },
   "outputs": [
    {
     "name": "stdout",
     "output_type": "stream",
     "text": [
      "PROGRESS: Recsys training: model = ranking_factorization_recommender\n",
      "PROGRESS: Preparing data set.\n",
      "PROGRESS:     Data has 82068 observations with 334 users and 7714 items.\n",
      "PROGRESS:     Data prepared in: 0.131875s\n",
      "PROGRESS: Training ranking_factorization_recommender for recommendations.\n",
      "PROGRESS: +--------------------------------+--------------------------------------------------+----------+\n",
      "PROGRESS: | Parameter                      | Description                                      | Value    |\n",
      "PROGRESS: +--------------------------------+--------------------------------------------------+----------+\n",
      "PROGRESS: | num_factors                    | Factor Dimension                                 | 32       |\n",
      "PROGRESS: | regularization                 | L2 Regularization on Factors                     | 1e-09    |\n",
      "PROGRESS: | solver                         | Solver used for training                         | sgd      |\n",
      "PROGRESS: | linear_regularization          | L2 Regularization on Linear Coefficients         | 1e-09    |\n",
      "PROGRESS: | ranking_regularization         | Rank-based Regularization Weight                 | 0.25     |\n",
      "PROGRESS: | max_iterations                 | Maximum Number of Iterations                     | 25       |\n",
      "PROGRESS: +--------------------------------+--------------------------------------------------+----------+\n",
      "PROGRESS:   Optimizing model using SGD; tuning step size.\n",
      "PROGRESS:   Using 10258 / 82068 points for tuning the step size.\n",
      "PROGRESS: +---------+-------------------+------------------------------------------+\n",
      "PROGRESS: | Attempt | Initial Step Size | Estimated Objective Value                |\n",
      "PROGRESS: +---------+-------------------+------------------------------------------+\n",
      "PROGRESS: | 0       | 25                | Not Viable                               |\n",
      "PROGRESS: | 1       | 6.25              | Not Viable                               |\n",
      "PROGRESS: | 2       | 1.5625            | Not Viable                               |\n",
      "PROGRESS: | 3       | 0.390625          | Not Viable                               |\n",
      "PROGRESS: | 4       | 0.0976562         | 1.61077                                  |\n",
      "PROGRESS: | 5       | 0.0488281         | 1.65965                                  |\n",
      "PROGRESS: | 6       | 0.0244141         | 1.73253                                  |\n",
      "PROGRESS: | 7       | 0.012207          | 1.81386                                  |\n",
      "PROGRESS: +---------+-------------------+------------------------------------------+\n",
      "PROGRESS: | Final   | 0.0976562         | 1.61077                                  |\n",
      "PROGRESS: +---------+-------------------+------------------------------------------+\n",
      "PROGRESS: Starting Optimization.\n",
      "PROGRESS: +---------+--------------+-------------------+-----------------------+-------------+\n",
      "PROGRESS: | Iter.   | Elapsed Time | Approx. Objective | Approx. Training RMSE | Step Size   |\n",
      "PROGRESS: +---------+--------------+-------------------+-----------------------+-------------+\n",
      "PROGRESS: | Initial | 240us        | 2.4007            | 1.10654               |             |\n",
      "PROGRESS: +---------+--------------+-------------------+-----------------------+-------------+\n",
      "PROGRESS: | 1       | 81.055ms     | 2.01021           | 1.13331               | 0.0976562   |\n",
      "PROGRESS: | 2       | 165.58ms     | 1.76961           | 1.06326               | 0.0580668   |\n",
      "PROGRESS: | 3       | 260.505ms    | 1.55886           | 0.985483              | 0.042841    |\n",
      "PROGRESS: | 4       | 331.939ms    | 1.3654            | 0.904924              | 0.0345267   |\n",
      "PROGRESS: | 5       | 404.688ms    | 1.19597           | 0.834759              | 0.029206    |\n",
      "PROGRESS: | 6       | 484.78ms     | 1.05309           | 0.768483              | 0.0254734   |\n",
      "PROGRESS: | 11      | 865.683ms    | 0.675533          | 0.582618              | 0.016168    |\n",
      "PROGRESS: | 25      | 2.03s        | 0.488142          | 0.475249              | 0.00873464  |\n",
      "PROGRESS: +---------+--------------+-------------------+-----------------------+-------------+\n",
      "PROGRESS: Optimization Complete: Maximum number of passes through the data reached.\n",
      "PROGRESS: Computing final objective value and training RMSE.\n",
      "PROGRESS:        Final objective value: 0.450286\n",
      "PROGRESS:        Final training RMSE: 0.418268\n"
     ]
    }
   ],
   "source": [
    "model = gl.recommender.create(data,\n",
    "          user_id='user',\n",
    "          item_id='movie',\n",
    "          target='rating')"
   ]
  },
  {
   "cell_type": "code",
   "execution_count": 15,
   "metadata": {
    "collapsed": false
   },
   "outputs": [
    {
     "data": {
      "text/html": [
       "<div style=\"max-height:1000px;max-width:1500px;overflow:auto;\"><table frame=\"box\" rules=\"cols\">\n",
       "    <tr>\n",
       "        <th style=\"padding-left: 1em; padding-right: 1em; text-align: center\">user</th>\n",
       "        <th style=\"padding-left: 1em; padding-right: 1em; text-align: center\">movie</th>\n",
       "        <th style=\"padding-left: 1em; padding-right: 1em; text-align: center\">score</th>\n",
       "        <th style=\"padding-left: 1em; padding-right: 1em; text-align: center\">rank</th>\n",
       "    </tr>\n",
       "    <tr>\n",
       "        <td style=\"padding-left: 1em; padding-right: 1em; text-align: center; vertical-align: top\">Jacob Smith</td>\n",
       "        <td style=\"padding-left: 1em; padding-right: 1em; text-align: center; vertical-align: top\">Shall We Dance?</td>\n",
       "        <td style=\"padding-left: 1em; padding-right: 1em; text-align: center; vertical-align: top\">5.141178594</td>\n",
       "        <td style=\"padding-left: 1em; padding-right: 1em; text-align: center; vertical-align: top\">1</td>\n",
       "    </tr>\n",
       "    <tr>\n",
       "        <td style=\"padding-left: 1em; padding-right: 1em; text-align: center; vertical-align: top\">Jacob Smith</td>\n",
       "        <td style=\"padding-left: 1em; padding-right: 1em; text-align: center; vertical-align: top\">Love Actually</td>\n",
       "        <td style=\"padding-left: 1em; padding-right: 1em; text-align: center; vertical-align: top\">4.76000283754</td>\n",
       "        <td style=\"padding-left: 1em; padding-right: 1em; text-align: center; vertical-align: top\">2</td>\n",
       "    </tr>\n",
       "    <tr>\n",
       "        <td style=\"padding-left: 1em; padding-right: 1em; text-align: center; vertical-align: top\">Jacob Smith</td>\n",
       "        <td style=\"padding-left: 1em; padding-right: 1em; text-align: center; vertical-align: top\">The Red Violin</td>\n",
       "        <td style=\"padding-left: 1em; padding-right: 1em; text-align: center; vertical-align: top\">4.68698619402</td>\n",
       "        <td style=\"padding-left: 1em; padding-right: 1em; text-align: center; vertical-align: top\">3</td>\n",
       "    </tr>\n",
       "    <tr>\n",
       "        <td style=\"padding-left: 1em; padding-right: 1em; text-align: center; vertical-align: top\">Jacob Smith</td>\n",
       "        <td style=\"padding-left: 1em; padding-right: 1em; text-align: center; vertical-align: top\">Bridget Jones's Diary</td>\n",
       "        <td style=\"padding-left: 1em; padding-right: 1em; text-align: center; vertical-align: top\">4.55182908571</td>\n",
       "        <td style=\"padding-left: 1em; padding-right: 1em; text-align: center; vertical-align: top\">4</td>\n",
       "    </tr>\n",
       "    <tr>\n",
       "        <td style=\"padding-left: 1em; padding-right: 1em; text-align: center; vertical-align: top\">Jacob Smith</td>\n",
       "        <td style=\"padding-left: 1em; padding-right: 1em; text-align: center; vertical-align: top\">Shine</td>\n",
       "        <td style=\"padding-left: 1em; padding-right: 1em; text-align: center; vertical-align: top\">4.45206521547</td>\n",
       "        <td style=\"padding-left: 1em; padding-right: 1em; text-align: center; vertical-align: top\">5</td>\n",
       "    </tr>\n",
       "    <tr>\n",
       "        <td style=\"padding-left: 1em; padding-right: 1em; text-align: center; vertical-align: top\">Mason Smith</td>\n",
       "        <td style=\"padding-left: 1em; padding-right: 1em; text-align: center; vertical-align: top\">Mulholland Drive</td>\n",
       "        <td style=\"padding-left: 1em; padding-right: 1em; text-align: center; vertical-align: top\">5.8094079355</td>\n",
       "        <td style=\"padding-left: 1em; padding-right: 1em; text-align: center; vertical-align: top\">1</td>\n",
       "    </tr>\n",
       "    <tr>\n",
       "        <td style=\"padding-left: 1em; padding-right: 1em; text-align: center; vertical-align: top\">Mason Smith</td>\n",
       "        <td style=\"padding-left: 1em; padding-right: 1em; text-align: center; vertical-align: top\">Love Actually</td>\n",
       "        <td style=\"padding-left: 1em; padding-right: 1em; text-align: center; vertical-align: top\">5.56564925707</td>\n",
       "        <td style=\"padding-left: 1em; padding-right: 1em; text-align: center; vertical-align: top\">2</td>\n",
       "    </tr>\n",
       "    <tr>\n",
       "        <td style=\"padding-left: 1em; padding-right: 1em; text-align: center; vertical-align: top\">Mason Smith</td>\n",
       "        <td style=\"padding-left: 1em; padding-right: 1em; text-align: center; vertical-align: top\">Phone Booth</td>\n",
       "        <td style=\"padding-left: 1em; padding-right: 1em; text-align: center; vertical-align: top\">5.55061172045</td>\n",
       "        <td style=\"padding-left: 1em; padding-right: 1em; text-align: center; vertical-align: top\">3</td>\n",
       "    </tr>\n",
       "    <tr>\n",
       "        <td style=\"padding-left: 1em; padding-right: 1em; text-align: center; vertical-align: top\">Mason Smith</td>\n",
       "        <td style=\"padding-left: 1em; padding-right: 1em; text-align: center; vertical-align: top\">Deliverance</td>\n",
       "        <td style=\"padding-left: 1em; padding-right: 1em; text-align: center; vertical-align: top\">5.2154667238</td>\n",
       "        <td style=\"padding-left: 1em; padding-right: 1em; text-align: center; vertical-align: top\">4</td>\n",
       "    </tr>\n",
       "    <tr>\n",
       "        <td style=\"padding-left: 1em; padding-right: 1em; text-align: center; vertical-align: top\">Mason Smith</td>\n",
       "        <td style=\"padding-left: 1em; padding-right: 1em; text-align: center; vertical-align: top\">Lawrence of Arabia</td>\n",
       "        <td style=\"padding-left: 1em; padding-right: 1em; text-align: center; vertical-align: top\">5.13001082933</td>\n",
       "        <td style=\"padding-left: 1em; padding-right: 1em; text-align: center; vertical-align: top\">5</td>\n",
       "    </tr>\n",
       "</table>\n",
       "[1670 rows x 4 columns]<br/>Note: Only the head of the SFrame is printed.<br/>You can use print_rows(num_rows=m, num_columns=n) to print more rows and columns.\n",
       "</div>"
      ],
      "text/plain": [
       "Columns:\n",
       "\tuser\tstr\n",
       "\tmovie\tstr\n",
       "\tscore\tfloat\n",
       "\trank\tint\n",
       "\n",
       "Rows: 1670\n",
       "\n",
       "Data:\n",
       "+-------------+-----------------------+---------------+------+\n",
       "|     user    |         movie         |     score     | rank |\n",
       "+-------------+-----------------------+---------------+------+\n",
       "| Jacob Smith |    Shall We Dance?    |  5.141178594  |  1   |\n",
       "| Jacob Smith |     Love Actually     | 4.76000283754 |  2   |\n",
       "| Jacob Smith |     The Red Violin    | 4.68698619402 |  3   |\n",
       "| Jacob Smith | Bridget Jones's Diary | 4.55182908571 |  4   |\n",
       "| Jacob Smith |         Shine         | 4.45206521547 |  5   |\n",
       "| Mason Smith |    Mulholland Drive   |  5.8094079355 |  1   |\n",
       "| Mason Smith |     Love Actually     | 5.56564925707 |  2   |\n",
       "| Mason Smith |      Phone Booth      | 5.55061172045 |  3   |\n",
       "| Mason Smith |      Deliverance      |  5.2154667238 |  4   |\n",
       "| Mason Smith |   Lawrence of Arabia  | 5.13001082933 |  5   |\n",
       "+-------------+-----------------------+---------------+------+\n",
       "[1670 rows x 4 columns]\n",
       "Note: Only the head of the SFrame is printed.\n",
       "You can use print_rows(num_rows=m, num_columns=n) to print more rows and columns."
      ]
     },
     "execution_count": 15,
     "metadata": {},
     "output_type": "execute_result"
    }
   ],
   "source": [
    "model.recommend(k=5)"
   ]
  },
  {
   "cell_type": "code",
   "execution_count": 16,
   "metadata": {
    "collapsed": false
   },
   "outputs": [
    {
     "data": {
      "text/html": [
       "<div style=\"max-height:1000px;max-width:1500px;overflow:auto;\"><table frame=\"box\" rules=\"cols\">\n",
       "    <tr>\n",
       "        <th style=\"padding-left: 1em; padding-right: 1em; text-align: center\">user</th>\n",
       "        <th style=\"padding-left: 1em; padding-right: 1em; text-align: center\">movie</th>\n",
       "        <th style=\"padding-left: 1em; padding-right: 1em; text-align: center\">score</th>\n",
       "        <th style=\"padding-left: 1em; padding-right: 1em; text-align: center\">rank</th>\n",
       "    </tr>\n",
       "    <tr>\n",
       "        <td style=\"padding-left: 1em; padding-right: 1em; text-align: center; vertical-align: top\">Mason Smith</td>\n",
       "        <td style=\"padding-left: 1em; padding-right: 1em; text-align: center; vertical-align: top\">Mulholland Drive</td>\n",
       "        <td style=\"padding-left: 1em; padding-right: 1em; text-align: center; vertical-align: top\">5.8094079355</td>\n",
       "        <td style=\"padding-left: 1em; padding-right: 1em; text-align: center; vertical-align: top\">1</td>\n",
       "    </tr>\n",
       "    <tr>\n",
       "        <td style=\"padding-left: 1em; padding-right: 1em; text-align: center; vertical-align: top\">Mason Smith</td>\n",
       "        <td style=\"padding-left: 1em; padding-right: 1em; text-align: center; vertical-align: top\">Love Actually</td>\n",
       "        <td style=\"padding-left: 1em; padding-right: 1em; text-align: center; vertical-align: top\">5.56564925707</td>\n",
       "        <td style=\"padding-left: 1em; padding-right: 1em; text-align: center; vertical-align: top\">2</td>\n",
       "    </tr>\n",
       "</table>\n",
       "[2 rows x 4 columns]<br/>\n",
       "</div>"
      ],
      "text/plain": [
       "Columns:\n",
       "\tuser\tstr\n",
       "\tmovie\tstr\n",
       "\tscore\tfloat\n",
       "\trank\tint\n",
       "\n",
       "Rows: 2\n",
       "\n",
       "Data:\n",
       "+-------------+------------------+---------------+------+\n",
       "|     user    |      movie       |     score     | rank |\n",
       "+-------------+------------------+---------------+------+\n",
       "| Mason Smith | Mulholland Drive |  5.8094079355 |  1   |\n",
       "| Mason Smith |  Love Actually   | 5.56564925707 |  2   |\n",
       "+-------------+------------------+---------------+------+\n",
       "[2 rows x 4 columns]"
      ]
     },
     "execution_count": 16,
     "metadata": {},
     "output_type": "execute_result"
    }
   ],
   "source": [
    "model.recommend(users=['Mason Smith'], k=2)"
   ]
  },
  {
   "cell_type": "code",
   "execution_count": 18,
   "metadata": {
    "collapsed": false
   },
   "outputs": [
    {
     "data": {
      "text/html": [
       "<div style=\"max-height:1000px;max-width:1500px;overflow:auto;\"><table frame=\"box\" rules=\"cols\">\n",
       "    <tr>\n",
       "        <th style=\"padding-left: 1em; padding-right: 1em; text-align: center\">user</th>\n",
       "        <th style=\"padding-left: 1em; padding-right: 1em; text-align: center\">movie</th>\n",
       "        <th style=\"padding-left: 1em; padding-right: 1em; text-align: center\">score</th>\n",
       "        <th style=\"padding-left: 1em; padding-right: 1em; text-align: center\">rank</th>\n",
       "    </tr>\n",
       "    <tr>\n",
       "        <td style=\"padding-left: 1em; padding-right: 1em; text-align: center; vertical-align: top\">Mason Smith</td>\n",
       "        <td style=\"padding-left: 1em; padding-right: 1em; text-align: center; vertical-align: top\">The Hours</td>\n",
       "        <td style=\"padding-left: 1em; padding-right: 1em; text-align: center; vertical-align: top\">2.82095609701</td>\n",
       "        <td style=\"padding-left: 1em; padding-right: 1em; text-align: center; vertical-align: top\">1</td>\n",
       "    </tr>\n",
       "</table>\n",
       "[1 rows x 4 columns]<br/>\n",
       "</div>"
      ],
      "text/plain": [
       "Columns:\n",
       "\tuser\tstr\n",
       "\tmovie\tstr\n",
       "\tscore\tfloat\n",
       "\trank\tint\n",
       "\n",
       "Rows: 1\n",
       "\n",
       "Data:\n",
       "+-------------+-----------+---------------+------+\n",
       "|     user    |   movie   |     score     | rank |\n",
       "+-------------+-----------+---------------+------+\n",
       "| Mason Smith | The Hours | 2.82095609701 |  1   |\n",
       "+-------------+-----------+---------------+------+\n",
       "[1 rows x 4 columns]"
      ]
     },
     "execution_count": 18,
     "metadata": {},
     "output_type": "execute_result"
    }
   ],
   "source": [
    "model.recommend(users=['Mason Smith'], items=['The Hours'])"
   ]
  },
  {
   "cell_type": "code",
   "execution_count": 20,
   "metadata": {
    "collapsed": false
   },
   "outputs": [
    {
     "data": {
      "text/html": [
       "<div style=\"max-height:1000px;max-width:1500px;overflow:auto;\"><table frame=\"box\" rules=\"cols\">\n",
       "    <tr>\n",
       "        <th style=\"padding-left: 1em; padding-right: 1em; text-align: center\">user</th>\n",
       "        <th style=\"padding-left: 1em; padding-right: 1em; text-align: center\">movie</th>\n",
       "        <th style=\"padding-left: 1em; padding-right: 1em; text-align: center\">score</th>\n",
       "        <th style=\"padding-left: 1em; padding-right: 1em; text-align: center\">rank</th>\n",
       "    </tr>\n",
       "    <tr>\n",
       "        <td style=\"padding-left: 1em; padding-right: 1em; text-align: center; vertical-align: top\">William Smith</td>\n",
       "        <td style=\"padding-left: 1em; padding-right: 1em; text-align: center; vertical-align: top\">The Corner</td>\n",
       "        <td style=\"padding-left: 1em; padding-right: 1em; text-align: center; vertical-align: top\">0.93975679672</td>\n",
       "        <td style=\"padding-left: 1em; padding-right: 1em; text-align: center; vertical-align: top\">1</td>\n",
       "    </tr>\n",
       "</table>\n",
       "[1 rows x 4 columns]<br/>\n",
       "</div>"
      ],
      "text/plain": [
       "Columns:\n",
       "\tuser\tstr\n",
       "\tmovie\tstr\n",
       "\tscore\tfloat\n",
       "\trank\tint\n",
       "\n",
       "Rows: 1\n",
       "\n",
       "Data:\n",
       "+---------------+------------+---------------+------+\n",
       "|      user     |   movie    |     score     | rank |\n",
       "+---------------+------------+---------------+------+\n",
       "| William Smith | The Corner | 0.93975679672 |  1   |\n",
       "+---------------+------------+---------------+------+\n",
       "[1 rows x 4 columns]"
      ]
     },
     "execution_count": 20,
     "metadata": {},
     "output_type": "execute_result"
    }
   ],
   "source": [
    "model.recommend(users=['William Smith'], items=['The Corner'])"
   ]
  },
  {
   "cell_type": "code",
   "execution_count": 27,
   "metadata": {
    "collapsed": false
   },
   "outputs": [
    {
     "data": {
      "text/html": [
       "<div style=\"max-height:1000px;max-width:1500px;overflow:auto;\"><table frame=\"box\" rules=\"cols\">\n",
       "    <tr>\n",
       "        <th style=\"padding-left: 1em; padding-right: 1em; text-align: center\">user</th>\n",
       "        <th style=\"padding-left: 1em; padding-right: 1em; text-align: center\">movie</th>\n",
       "        <th style=\"padding-left: 1em; padding-right: 1em; text-align: center\">score</th>\n",
       "        <th style=\"padding-left: 1em; padding-right: 1em; text-align: center\">rank</th>\n",
       "    </tr>\n",
       "    <tr>\n",
       "        <td style=\"padding-left: 1em; padding-right: 1em; text-align: center; vertical-align: top\">Jeffrey Smith</td>\n",
       "        <td style=\"padding-left: 1em; padding-right: 1em; text-align: center; vertical-align: top\">The Corner</td>\n",
       "        <td style=\"padding-left: 1em; padding-right: 1em; text-align: center; vertical-align: top\">2.96076010263</td>\n",
       "        <td style=\"padding-left: 1em; padding-right: 1em; text-align: center; vertical-align: top\">1</td>\n",
       "    </tr>\n",
       "    <tr>\n",
       "        <td style=\"padding-left: 1em; padding-right: 1em; text-align: center; vertical-align: top\">Reid Smith</td>\n",
       "        <td style=\"padding-left: 1em; padding-right: 1em; text-align: center; vertical-align: top\">The Corner</td>\n",
       "        <td style=\"padding-left: 1em; padding-right: 1em; text-align: center; vertical-align: top\">2.51614062584</td>\n",
       "        <td style=\"padding-left: 1em; padding-right: 1em; text-align: center; vertical-align: top\">1</td>\n",
       "    </tr>\n",
       "    <tr>\n",
       "        <td style=\"padding-left: 1em; padding-right: 1em; text-align: center; vertical-align: top\">Brennan Smith</td>\n",
       "        <td style=\"padding-left: 1em; padding-right: 1em; text-align: center; vertical-align: top\">The Corner</td>\n",
       "        <td style=\"padding-left: 1em; padding-right: 1em; text-align: center; vertical-align: top\">2.39484571016</td>\n",
       "        <td style=\"padding-left: 1em; padding-right: 1em; text-align: center; vertical-align: top\">1</td>\n",
       "    </tr>\n",
       "    <tr>\n",
       "        <td style=\"padding-left: 1em; padding-right: 1em; text-align: center; vertical-align: top\">Kevin Smith</td>\n",
       "        <td style=\"padding-left: 1em; padding-right: 1em; text-align: center; vertical-align: top\">The Corner</td>\n",
       "        <td style=\"padding-left: 1em; padding-right: 1em; text-align: center; vertical-align: top\">2.28503529823</td>\n",
       "        <td style=\"padding-left: 1em; padding-right: 1em; text-align: center; vertical-align: top\">1</td>\n",
       "    </tr>\n",
       "    <tr>\n",
       "        <td style=\"padding-left: 1em; padding-right: 1em; text-align: center; vertical-align: top\">Thomas Smith</td>\n",
       "        <td style=\"padding-left: 1em; padding-right: 1em; text-align: center; vertical-align: top\">The Corner</td>\n",
       "        <td style=\"padding-left: 1em; padding-right: 1em; text-align: center; vertical-align: top\">2.24449376858</td>\n",
       "        <td style=\"padding-left: 1em; padding-right: 1em; text-align: center; vertical-align: top\">1</td>\n",
       "    </tr>\n",
       "    <tr>\n",
       "        <td style=\"padding-left: 1em; padding-right: 1em; text-align: center; vertical-align: top\">Trevor Smith</td>\n",
       "        <td style=\"padding-left: 1em; padding-right: 1em; text-align: center; vertical-align: top\">The Corner</td>\n",
       "        <td style=\"padding-left: 1em; padding-right: 1em; text-align: center; vertical-align: top\">2.21904902256</td>\n",
       "        <td style=\"padding-left: 1em; padding-right: 1em; text-align: center; vertical-align: top\">1</td>\n",
       "    </tr>\n",
       "    <tr>\n",
       "        <td style=\"padding-left: 1em; padding-right: 1em; text-align: center; vertical-align: top\">Xander Smith</td>\n",
       "        <td style=\"padding-left: 1em; padding-right: 1em; text-align: center; vertical-align: top\">The Corner</td>\n",
       "        <td style=\"padding-left: 1em; padding-right: 1em; text-align: center; vertical-align: top\">2.21528212822</td>\n",
       "        <td style=\"padding-left: 1em; padding-right: 1em; text-align: center; vertical-align: top\">1</td>\n",
       "    </tr>\n",
       "    <tr>\n",
       "        <td style=\"padding-left: 1em; padding-right: 1em; text-align: center; vertical-align: top\">Paxton Smith</td>\n",
       "        <td style=\"padding-left: 1em; padding-right: 1em; text-align: center; vertical-align: top\">The Corner</td>\n",
       "        <td style=\"padding-left: 1em; padding-right: 1em; text-align: center; vertical-align: top\">2.20255379474</td>\n",
       "        <td style=\"padding-left: 1em; padding-right: 1em; text-align: center; vertical-align: top\">1</td>\n",
       "    </tr>\n",
       "    <tr>\n",
       "        <td style=\"padding-left: 1em; padding-right: 1em; text-align: center; vertical-align: top\">Brandon Smith</td>\n",
       "        <td style=\"padding-left: 1em; padding-right: 1em; text-align: center; vertical-align: top\">The Corner</td>\n",
       "        <td style=\"padding-left: 1em; padding-right: 1em; text-align: center; vertical-align: top\">2.16120879448</td>\n",
       "        <td style=\"padding-left: 1em; padding-right: 1em; text-align: center; vertical-align: top\">1</td>\n",
       "    </tr>\n",
       "    <tr>\n",
       "        <td style=\"padding-left: 1em; padding-right: 1em; text-align: center; vertical-align: top\">Micah Smith</td>\n",
       "        <td style=\"padding-left: 1em; padding-right: 1em; text-align: center; vertical-align: top\">The Corner</td>\n",
       "        <td style=\"padding-left: 1em; padding-right: 1em; text-align: center; vertical-align: top\">2.08845846451</td>\n",
       "        <td style=\"padding-left: 1em; padding-right: 1em; text-align: center; vertical-align: top\">1</td>\n",
       "    </tr>\n",
       "</table>\n",
       "[333 rows x 4 columns]<br/>Note: Only the head of the SFrame is printed.<br/>You can use print_rows(num_rows=m, num_columns=n) to print more rows and columns.\n",
       "</div>"
      ],
      "text/plain": [
       "Columns:\n",
       "\tuser\tstr\n",
       "\tmovie\tstr\n",
       "\tscore\tfloat\n",
       "\trank\tint\n",
       "\n",
       "Rows: 333\n",
       "\n",
       "Data:\n",
       "+---------------+------------+---------------+------+\n",
       "|      user     |   movie    |     score     | rank |\n",
       "+---------------+------------+---------------+------+\n",
       "| Jeffrey Smith | The Corner | 2.96076010263 |  1   |\n",
       "|   Reid Smith  | The Corner | 2.51614062584 |  1   |\n",
       "| Brennan Smith | The Corner | 2.39484571016 |  1   |\n",
       "|  Kevin Smith  | The Corner | 2.28503529823 |  1   |\n",
       "|  Thomas Smith | The Corner | 2.24449376858 |  1   |\n",
       "|  Trevor Smith | The Corner | 2.21904902256 |  1   |\n",
       "|  Xander Smith | The Corner | 2.21528212822 |  1   |\n",
       "|  Paxton Smith | The Corner | 2.20255379474 |  1   |\n",
       "| Brandon Smith | The Corner | 2.16120879448 |  1   |\n",
       "|  Micah Smith  | The Corner | 2.08845846451 |  1   |\n",
       "+---------------+------------+---------------+------+\n",
       "[333 rows x 4 columns]\n",
       "Note: Only the head of the SFrame is printed.\n",
       "You can use print_rows(num_rows=m, num_columns=n) to print more rows and columns."
      ]
     },
     "execution_count": 27,
     "metadata": {},
     "output_type": "execute_result"
    }
   ],
   "source": [
    "# If you get a new movie, who should you recommend to?\n",
    "model.recommend(items=['The Corner']).sort('score', ascending=False)"
   ]
  }
 ],
 "metadata": {
  "kernelspec": {
   "display_name": "Python 2",
   "language": "python",
   "name": "python2"
  },
  "language_info": {
   "codemirror_mode": {
    "name": "ipython",
    "version": 2
   },
   "file_extension": ".py",
   "mimetype": "text/x-python",
   "name": "python",
   "nbconvert_exporter": "python",
   "pygments_lexer": "ipython2",
   "version": "2.7.9"
  }
 },
 "nbformat": 4,
 "nbformat_minor": 0
}
